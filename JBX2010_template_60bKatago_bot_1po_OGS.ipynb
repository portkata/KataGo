{
  "nbformat": 4,
  "nbformat_minor": 0,
  "metadata": {
    "colab": {
      "name": "JBX2010_template_60bKatago_bot_1po_OGS.ipynb",
      "provenance": [],
      "collapsed_sections": [],
      "include_colab_link": true
    },
    "kernelspec": {
      "name": "python3",
      "display_name": "Python 3"
    },
    "accelerator": "GPU"
  },
  "cells": [
    {
      "cell_type": "markdown",
      "metadata": {
        "id": "view-in-github",
        "colab_type": "text"
      },
      "source": [
        "<a href=\"https://colab.research.google.com/github/portkata/KataGo/blob/master/JBX2010_template_60bKatago_bot_1po_OGS.ipynb\" target=\"_parent\"><img src=\"https://colab.research.google.com/assets/colab-badge.svg\" alt=\"Open In Colab\"/></a>"
      ]
    },
    {
      "cell_type": "markdown",
      "metadata": {
        "id": "JumymAZF1l59"
      },
      "source": [
        "Please click \"COPY to Drive\" on top and save as your own copy first. Please also download the required Config files from Github. https://github.com/JBX2010/KataGo_Colab/"
      ]
    },
    {
      "cell_type": "markdown",
      "metadata": {
        "id": "BrEdpicXj2sj"
      },
      "source": [
        "1. Please first check what GPU is allocated by Colab by clicking the command line below."
      ]
    },
    {
      "cell_type": "code",
      "metadata": {
        "id": "Gx6FgxfDbRmg"
      },
      "source": [
        "!nvidia-smi"
      ],
      "execution_count": null,
      "outputs": []
    },
    {
      "cell_type": "markdown",
      "metadata": {
        "id": "NX8CuOAGkF2F"
      },
      "source": [
        "2. Building KataGo and gtp2ogs. Please switch CUDA/OPENCL depending on the GPU allocated. Search KATAGO_BACKEND = \"OPENCL\" and update accordingly. For T4 recommend to use CUDA. For P100, P4 and K80 recommend to use OPENCL.  "
      ]
    },
    {
      "cell_type": "code",
      "metadata": {
        "id": "cr_mVMzXi4KM"
      },
      "source": [
        "KATAGO_BACKEND=\"CUDA\"\n",
        "%cd /content\n",
        "!apt install sudo\n",
        "!sudo apt remove cmake\n",
        "!sudo apt purge --auto-remove cmake\n",
        "!mkdir ~/temp\n",
        "%cd ~/temp\n",
        "!wget https://cmake.org/files/v3.12/cmake-3.12.3-Linux-x86_64.sh\n",
        "!sudo mkdir /opt/cmake\n",
        "!sudo sh cmake-3.12.3-Linux-x86_64.sh --prefix=/opt/cmake --skip-license\n",
        "!sudo rm -R /usr/local/bin/cmake\n",
        "!sudo ln -s /opt/cmake/bin/cmake /usr/local/bin/cmake\n",
        "%cd /content\n",
        "!apt-get update\n",
        "!add-apt-repository -y ppa:ubuntu-toolchain-r/test\n",
        "!apt-get -y install gcc-8 g++-8 zlib1g-dev libzip-dev libboost-filesystem-dev libgoogle-perftools-dev\n",
        "!update-alternatives --install /usr/bin/gcc gcc /usr/bin/gcc-8 40 --slave /usr/bin/g++ g++ /usr/bin/g++-8 \n",
        "!apt-get install curl\n",
        "!curl -sL https://deb.nodesource.com/setup_13.x |  -E bash -\n",
        "!apt-get install -y nodejs\n",
        "!npm install -g gtp2ogs\n",
        "%cd /content\n",
        "!mkdir testtt \n",
        "%cd /content/testtt\n",
        "!git clone -b devel https://github.com/online-go/gtp2ogs \n",
        "%cd /content/testtt/gtp2ogs \n",
        "!git branch \n",
        "!sudo cp -rf * /usr/lib/node_modules/gtp2ogs/\n",
        "%cd /usr/lib/node_modules/gtp2ogs/ \n",
        "!npm install\n",
        "%cd /content\n",
        "!git clone https://github.com/lightvector/KataGo.git \n",
        "!cd /content/KataGo/cpp/ && cmake . -DBUILD_MCTS=1 -DUSE_BACKEND=$KATAGO_BACKEND && make \n",
        "!cd /content/KataGo/cpp/ && wget https://github.com/portkata/KataGo/releases/download/v0.1/60.bin.gz\n",
        "!cd /content/KataGo/cpp/ && gunzip 60.bin.gz\n",
        "!cd /content/KataGo/cpp/ && mv 60.bin 60e.bin\n",
        "!cd /content/KataGo/cpp/ && wget https://github.com/portkata/KataGo/releases/download/v.01/t1p1v1.cfg.gz\n",
        "!cd /content/KataGo/cpp/ && gunzip t1p1v1.cfg.gz\n",
        "!cd /content/KataGo/cpp/ && wget http://res.yikeweiqi.com/yklinker/yk-linker.zip\n",
        "!cd /content/KataGo/cpp/ && unzip yk-linker.zip\n"
      ],
      "execution_count": null,
      "outputs": []
    },
    {
      "cell_type": "markdown",
      "metadata": {
        "id": "peo54ljEkGAw"
      },
      "source": [
        "In the above commands, if you want to update the 60b net from the default pre-release one in this script to a stronger one, replace the github address in the following line \r\n",
        "\r\n",
        "```\r\n",
        "!cd /content/KataGo/cpp/ && wget https://github.com/portkata/KataGo/releases/download/v0.1/60.bin.gz\r\n",
        "```\r\n",
        "with the address for the updated net. then in the line below, replace \"60.bin.gz\" with the name of the updated net. Then in the next line below, replace the 60 in \"60.bin\" with the updated net name, but leave the \"60e.bin\" as is. \r\n"
      ]
    },
    {
      "cell_type": "markdown",
      "metadata": {
        "id": "p6UExWZW-aKM"
      },
      "source": [
        "3. Run Bot on OGS https://online-go.com/ . Please update your ogsBotName and your ogsBotAPIKey in below command. Finally click command below to start you bot. You will need to logon to https://online-go.com/ with your local pc or smart phone to see how your bot runs... Enjoy!\n"
      ]
    },
    {
      "cell_type": "code",
      "metadata": {
        "id": "9H4VCnqEnmzA"
      },
      "source": [
        "!nodejs /usr/lib/node_modules/gtp2ogs/gtp2ogs.js --username <bot_username> --apikey <api_key> --ogspv KataGo  --persist   --maxconnectedgames 4  --noautohandicapranked --maxhandicap 1 --speeds live --greeting \"I use 1 playout. The first move takes 10 seconds. Then it should be very quick. Good luck in Go and all you do today\"   -- /content/KataGo/cpp/katago gtp -model /content/KataGo/cpp/60e.bin -config /content/KataGo/cpp/t1p1v1.cfg"
      ],
      "execution_count": null,
      "outputs": []
    },
    {
      "cell_type": "markdown",
      "metadata": {
        "id": "4AbKi-YKjoVQ"
      },
      "source": [
        "# 4a. (Optional) copy and paste the function below  in browser console and press enter to prevent disconnect when browser is inactive \r\n",
        "\r\n",
        "```\r\n",
        "setInterval(ClickConnect,60000)\r\n",
        "function ClickConnect(){\r\n",
        "    console.log(\"Clicked on connect button\");\r\n",
        "    document.querySelector(\"colab-connect-button\").click()\r\n",
        "}\r\n",
        "setInterval(ClickConnect,60000)\r\n",
        "```\r\n",
        "4b. (Optional) Upload pre-tuned P100 OPENCL tunning file can save sometime on the KataGo initialization and may help enhance Bot Strength (IF GPU is P100). File name: tune6_gpuTeslaP100PCIE16GB_x19_y19_c256_mv8.txt . Please upload to the same /KataGo/cpp folder and then click below command.\r\n"
      ]
    },
    {
      "cell_type": "code",
      "metadata": {
        "id": "xEgqYQ4SQxzp"
      },
      "source": [
        "%cd /root/\n",
        "!mkdir .katago \n",
        "%cd /root/.katago/ \n",
        "!mkdir opencltuning\n",
        "!mv /content/KataGo/cpp/tune6_gpuTeslaP100PCIE16GB_x19_y19_c256_mv8.txt  /root/.katago/opencltuning/tune6_gpuTeslaP100PCIE16GB_x19_y19_c256_mv8.txt"
      ],
      "execution_count": null,
      "outputs": []
    },
    {
      "cell_type": "markdown",
      "metadata": {
        "id": "10rM1Mzg6AgC"
      },
      "source": [
        "5. (Optional) KataGo GPU BenchMark testing and Configuration fine tunning (This probably doesn't work as written)."
      ]
    },
    {
      "cell_type": "code",
      "metadata": {
        "id": "rpYpIrk0yfX9"
      },
      "source": [
        "!cd /content/KataGo/cpp/ && ./katago benchmark  -v 3200 -tune -model 60e.bin -config gtp_example.cfg"
      ],
      "execution_count": null,
      "outputs": []
    }
  ]
}